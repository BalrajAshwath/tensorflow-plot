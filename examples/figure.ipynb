{
 "cells": [
  {
   "cell_type": "markdown",
   "metadata": {},
   "source": [
    "# `tfplot.figure`"
   ]
  },
  {
   "cell_type": "code",
   "execution_count": 1,
   "metadata": {},
   "outputs": [],
   "source": [
    "%load_ext autoreload\n",
    "%autoreload 2"
   ]
  },
  {
   "cell_type": "code",
   "execution_count": 2,
   "metadata": {},
   "outputs": [],
   "source": [
    "import tfplot"
   ]
  },
  {
   "cell_type": "code",
   "execution_count": 3,
   "metadata": {},
   "outputs": [],
   "source": [
    "import numpy as np\n",
    "from PIL import Image\n",
    "from __future__ import print_function"
   ]
  },
  {
   "cell_type": "code",
   "execution_count": 4,
   "metadata": {},
   "outputs": [],
   "source": [
    "%matplotlib inline\n",
    "import matplotlib.pyplot as plt\n",
    "\n",
    "from matplotlib import rcParams, rc\n",
    "from IPython.core.pylabtools import figsize\n",
    "\n",
    "%config InlineBackend.figure_format = 'retina'"
   ]
  },
  {
   "cell_type": "code",
   "execution_count": 5,
   "metadata": {},
   "outputs": [],
   "source": [
    "def extract_image_summary(s):\n",
    "    from io import BytesIO\n",
    "    ims = []\n",
    "    for i in range(len(s.value)):\n",
    "        png_string = s.value[i].image.encoded_image_string\n",
    "        im = Image.open(BytesIO(png_string))\n",
    "        ims.append(im)\n",
    "    plt.close()\n",
    "    if len(ims) == 1: return ims[0]\n",
    "    else: return ims"
   ]
  },
  {
   "cell_type": "markdown",
   "metadata": {},
   "source": [
    "## Sample Figure"
   ]
  },
  {
   "cell_type": "code",
   "execution_count": 6,
   "metadata": {},
   "outputs": [
    {
     "data": {
      "image/png": "[encoded data removed]",
      "text/plain": [
       "<matplotlib.figure.Figure at 0x11c9ee5c0>"
      ]
     },
     "execution_count": 6,
     "metadata": {
      "image/png": {
       "height": 252,
       "width": 268
      }
     },
     "output_type": "execute_result"
    }
   ],
   "source": [
    "def test_figure():\n",
    "    fig, ax = tfplot.subplots(figsize=(4, 4))\n",
    "    ax.text(0.5, 0.5, \"Hello World!\",\n",
    "            ha='center', va='center', size=24)\n",
    "    return fig\n",
    "\n",
    "fig = test_figure()\n",
    "fig"
   ]
  },
  {
   "cell_type": "markdown",
   "metadata": {},
   "source": [
    "### `tfplot.figure.to_array()`"
   ]
  },
  {
   "cell_type": "markdown",
   "metadata": {},
   "source": [
    "This method converts a matplotlib `Figure` object into a `numpy.ndarray`."
   ]
  },
  {
   "cell_type": "code",
   "execution_count": 7,
   "metadata": {},
   "outputs": [
    {
     "data": {
      "text/plain": [
       "(288, 288, 4)"
      ]
     },
     "execution_count": 7,
     "metadata": {},
     "output_type": "execute_result"
    }
   ],
   "source": [
    "im_fig = tfplot.figure.to_array(fig)\n",
    "im_fig.shape"
   ]
  },
  {
   "cell_type": "code",
   "execution_count": 8,
   "metadata": {},
   "outputs": [
    {
     "data": {
      "image/png": "[encoded data removed]",
      "text/plain": [
       "<PIL.Image.Image image mode=RGBA size=288x288 at 0x11C90E390>"
      ]
     },
     "execution_count": 8,
     "metadata": {},
     "output_type": "execute_result"
    }
   ],
   "source": [
    "Image.fromarray(im_fig)"
   ]
  },
  {
   "cell_type": "markdown",
   "metadata": {},
   "source": [
    "### `tfplot.figure.to_summary()`"
   ]
  },
  {
   "cell_type": "markdown",
   "metadata": {},
   "source": [
    "This method converts a matplotlib `Figure` object into `tf.Summary` protobuf object, containing a single image summary. "
   ]
  },
  {
   "cell_type": "code",
   "execution_count": 9,
   "metadata": {},
   "outputs": [
    {
     "name": "stdout",
     "output_type": "stream",
     "text": [
      "<class 'tensorflow.core.framework.summary_pb2.Summary'>\n",
      "tag : figure/image/0\n",
      "height : 288\n",
      "width : 288\n",
      "len(PNG) : 6065\n"
     ]
    }
   ],
   "source": [
    "summary = tfplot.figure.to_summary(fig, \"figure/image/0\")\n",
    "\n",
    "print(type(summary))\n",
    "print(\"tag :\", summary.value[0].tag)\n",
    "print(\"height :\", summary.value[0].image.height)\n",
    "print(\"width :\", summary.value[0].image.width)\n",
    "print(\"len(PNG) :\", len(summary.value[0].image.encoded_image_string))"
   ]
  },
  {
   "cell_type": "code",
   "execution_count": 10,
   "metadata": {},
   "outputs": [
    {
     "data": {
      "image/png": "[encoded data removed]",
      "text/plain": [
       "<PIL.PngImagePlugin.PngImageFile image mode=RGBA size=288x288 at 0x11CC69898>"
      ]
     },
     "execution_count": 10,
     "metadata": {},
     "output_type": "execute_result"
    }
   ],
   "source": [
    "extract_image_summary(summary)"
   ]
  },
  {
   "cell_type": "code",
   "execution_count": null,
   "metadata": {},
   "outputs": [],
   "source": []
  }
 ],
 "metadata": {
  "kernelspec": {
   "display_name": "Python 2",
   "language": "python",
   "name": "python2"
  },
  "language_info": {
   "codemirror_mode": {
    "name": "ipython",
    "version": 3
   },
   "file_extension": ".py",
   "mimetype": "text/x-python",
   "name": "python",
   "nbconvert_exporter": "python",
   "pygments_lexer": "ipython3",
   "version": "3.6.2"
  }
 },
 "nbformat": 4,
 "nbformat_minor": 2
}
